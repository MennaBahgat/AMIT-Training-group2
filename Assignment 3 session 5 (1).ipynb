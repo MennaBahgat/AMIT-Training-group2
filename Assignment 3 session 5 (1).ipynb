{
 "cells": [
  {
   "cell_type": "markdown",
   "metadata": {},
   "source": [
    "# Assignment 3"
   ]
  },
  {
   "cell_type": "markdown",
   "metadata": {},
   "source": [
    "### Write a function to count the number 4 in a given list."
   ]
  },
  {
   "cell_type": "code",
   "execution_count": 4,
   "metadata": {},
   "outputs": [
    {
     "name": "stdout",
     "output_type": "stream",
     "text": [
      "plz enter list of numbers6 5 4 3 5 4 2 4 \n",
      " Number 4 has been repeated 3 times in this list \n"
     ]
    }
   ],
   "source": [
    "lst=input('please enter list of numbers').split()\n",
    " \n",
    "for l in range (0,len(lst)):\n",
    "    \n",
    "    lst[l]=int(lst[l])\n",
    "  \n",
    "\n",
    " #function that count number 4 in this list\n",
    "\n",
    "def counter(lst):\n",
    "    \n",
    "    num_count=0\n",
    "    \n",
    "    for n in lst:\n",
    "        \n",
    "        if n==4:\n",
    "            \n",
    "            num_count+=1 \n",
    "       \n",
    "    return num_count\n",
    "\n",
    "c=counter(lst)\n",
    "\n",
    "print('Number 4 has been repeated {} times in this list '.format(c))"
   ]
  },
  {
   "cell_type": "markdown",
   "metadata": {},
   "source": [
    "### write a  function to check whether a number is divisible by another number."
   ]
  },
  {
   "cell_type": "code",
   "execution_count": 7,
   "metadata": {},
   "outputs": [
    {
     "name": "stdout",
     "output_type": "stream",
     "text": [
      "plz enter the first number8\n",
      "plz enter the second number4\n",
      "8 is divisible by 4\n"
     ]
    }
   ],
   "source": [
    "frist_num=int(input('plz enter the first number'))\n",
    "\n",
    "second_num=int(input('plz enter the second number'))\n",
    "\n",
    "#function that checks whether a number is divisible by another number or not\n",
    "\n",
    "def division (num1,num2):\n",
    "    \n",
    "    if num1%num2==0:\n",
    "        \n",
    "        print('{} is divisible by {}'.format(num1,num2))\n",
    "     \n",
    "    else:\n",
    "        \n",
    "         print('{} is not divisible by {}'.format(num1,num2))\n",
    "\n",
    "d=division(frist_num,second_num)\n"
   ]
  },
  {
   "cell_type": "markdown",
   "metadata": {},
   "source": [
    "### write a function to find the maximum and minimum numbers from a sequence of numbers."
   ]
  },
  {
   "cell_type": "code",
   "execution_count": 13,
   "metadata": {},
   "outputs": [
    {
     "name": "stdout",
     "output_type": "stream",
     "text": [
      "please enter list of numbers6 7 8 5 99\n",
      " the maximum number is 99 and minmum number is 5\n"
     ]
    }
   ],
   "source": [
    "def m_m():\n",
    "    \n",
    "    lsts=input('please enter list of numbers').split()\n",
    "\n",
    "    for i in range (0,len(lsts)): \n",
    "        \n",
    "         lsts[i]=int(lsts[i])\n",
    "    \n",
    "    max_num=lsts[0]   #assume that max num is the first num in list\n",
    "    \n",
    "    min_num=lsts[-1]  #assume that min num is the last num in list\n",
    "    \n",
    "    for i in lsts:\n",
    "        \n",
    "        if max_num <i:\n",
    "            \n",
    "            max_num=i\n",
    "            \n",
    "        if min_num>i:\n",
    "            \n",
    "            min_num=i\n",
    "        \n",
    "    return(max_num,min_num)\n",
    "\n",
    "\n",
    "maxn,minn=m_m()\n",
    "\n",
    "print(' the maximum number is {} and minmum number is {}'.format(maxn,minn))"
   ]
  },
  {
   "cell_type": "markdown",
   "metadata": {},
   "source": [
    "### Write a Python function that takes two lists and returns True if they have at least one common member."
   ]
  },
  {
   "cell_type": "code",
   "execution_count": 16,
   "metadata": {},
   "outputs": [
    {
     "name": "stdout",
     "output_type": "stream",
     "text": [
      "please enter first list  6 5 4 3\n",
      "please enter second list  6 7 89\n"
     ]
    },
    {
     "data": {
      "text/plain": [
       "'true'"
      ]
     },
     "execution_count": 16,
     "metadata": {},
     "output_type": "execute_result"
    }
   ],
   "source": [
    "list1=input('please enter first list ').split()\n",
    "\n",
    "list2=input('please enter second list ').split()\n",
    "\n",
    "def common_num (list1,list2):\n",
    "    \n",
    "    for r in list2:\n",
    "        \n",
    "        if r in list1:\n",
    "            \n",
    "            return('true')\n",
    "        else:\n",
    "            return('ther is no common number')\n",
    "\n",
    "p=common_num (list1,list2)\n",
    "p\n"
   ]
  },
  {
   "cell_type": "markdown",
   "metadata": {},
   "source": [
    "### Write a Python function to calculate the factorial of a number (a non-negative integer). The function accepts the number from the user"
   ]
  },
  {
   "cell_type": "code",
   "execution_count": 19,
   "metadata": {},
   "outputs": [
    {
     "name": "stdout",
     "output_type": "stream",
     "text": [
      "please enter positive number8\n",
      "the factorial of 8 is 40320\n"
     ]
    }
   ],
   "source": [
    "def factorial():\n",
    "    \n",
    "    x=int(input('please enter positive number'))\n",
    "    \n",
    "    fact=1 \n",
    "   \n",
    "    for f in range(1,x+1):\n",
    "        fact=fact*f\n",
    "    \n",
    "    return('the factorial of {} is {}'.format(x,fact))\n",
    "\n",
    "a=factorial()\n",
    "\n",
    "print(a)"
   ]
  },
  {
   "cell_type": "markdown",
   "metadata": {},
   "source": [
    "### Write a Python function to check whether a number is in a given range.\n",
    "\n",
    "### The range is from 3 to 11\n"
   ]
  },
  {
   "cell_type": "code",
   "execution_count": 21,
   "metadata": {},
   "outputs": [
    {
     "name": "stdout",
     "output_type": "stream",
     "text": [
      "please enter max num of range100\n",
      "please enter min num of range50\n",
      "please enter number to check whether it is in the range or not88\n",
      "88 is in the given range [50,100]\n"
     ]
    }
   ],
   "source": [
    "def range_check  ():\n",
    "    maxx=int(input('please enter max num of range'))\n",
    "    \n",
    "    minn=int(input('please enter min num of range'))\n",
    "    \n",
    "    n=int(input('please enter number to check whether it is in the range or not'))\n",
    "    \n",
    "    if n <=maxx and n>=minn:\n",
    "        \n",
    "        print ('{} is in the given range [{},{}]'.format(n,minn,maxx))\n",
    "        \n",
    "    else:\n",
    "        \n",
    "        print ('{}is not in the given range [{},{}]'.format(n,minn,maxx))\n",
    "          \n",
    "\n",
    "range_check ()"
   ]
  },
  {
   "cell_type": "markdown",
   "metadata": {},
   "source": [
    "### Write a  program to create the multiplication table (from 1 to 10) of a number."
   ]
  },
  {
   "cell_type": "code",
   "execution_count": 22,
   "metadata": {},
   "outputs": [
    {
     "name": "stdout",
     "output_type": "stream",
     "text": [
      "please enter number to create the multiplication table for the number9\n",
      "9 * 1 = 9\n",
      "9 * 2 = 18\n",
      "9 * 3 = 27\n",
      "9 * 4 = 36\n",
      "9 * 5 = 45\n",
      "9 * 6 = 54\n",
      "9 * 7 = 63\n",
      "9 * 8 = 72\n",
      "9 * 9 = 81\n",
      "9 * 10 = 90\n"
     ]
    }
   ],
   "source": [
    "def multiple ():\n",
    "    num=int(input('please enter number to create the multiplication table for the number'))\n",
    "    \n",
    "    for o in range(1,10+1) :\n",
    "        print('{} * {} = {}'.format(num,o,num*o))\n",
    "\n",
    "multiple()"
   ]
  },
  {
   "cell_type": "markdown",
   "metadata": {},
   "source": [
    "#### LESSER OF TWO EVENS: Write a function that returns the lesser of two given numbers *if* both numbers are even, but returns the greater if one or both numbers are odd\n",
    "    lesser_of_two_evens(2,4) --> 2\n",
    "    lesser_of_two_evens(2,5) --> 5"
   ]
  },
  {
   "cell_type": "code",
   "execution_count": 23,
   "metadata": {},
   "outputs": [
    {
     "name": "stdout",
     "output_type": "stream",
     "text": [
      "please enter two numbers66 88\n"
     ]
    },
    {
     "data": {
      "text/plain": [
       "66"
      ]
     },
     "execution_count": 23,
     "metadata": {},
     "output_type": "execute_result"
    }
   ],
   "source": [
    "n1,n2=input('please enter two numbers').split()\n",
    "n1=int(n1)\n",
    "n2=int(n2) \n",
    "\n",
    "def evens_check(n1,n2):\n",
    "    \n",
    "    if n1%2==0 and n2%2==0:\n",
    "        \n",
    "        if n1<n2:\n",
    "            return (n1) \n",
    "        \n",
    "        else: \n",
    "            return(n2)\n",
    "\n",
    "    else :\n",
    "        \n",
    "        if n1<n2:\n",
    "            return (n2)\n",
    "        \n",
    "        else:\n",
    "            return(n1)\n",
    "\n",
    "check= evens_check(n1,n2)\n",
    "\n",
    "check\n",
    "\n",
    "        "
   ]
  }
 ],
 "metadata": {
  "kernelspec": {
   "display_name": "Python 3 (ipykernel)",
   "language": "python",
   "name": "python3"
  },
  "language_info": {
   "codemirror_mode": {
    "name": "ipython",
    "version": 3
   },
   "file_extension": ".py",
   "mimetype": "text/x-python",
   "name": "python",
   "nbconvert_exporter": "python",
   "pygments_lexer": "ipython3",
   "version": "3.9.12"
  }
 },
 "nbformat": 4,
 "nbformat_minor": 2
}
